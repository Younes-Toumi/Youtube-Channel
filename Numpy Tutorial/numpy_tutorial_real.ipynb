{
 "cells": [
  {
   "cell_type": "markdown",
   "metadata": {},
   "source": [
    "# Numpy Tutorial\n",
    "To install numpy write the following command using pip:\n",
    "\n",
    "```>pip install numpy ```\n",
    "\n",
    "And  import it as ```np``` it's a naming *convention*."
   ]
  },
  {
   "cell_type": "code",
   "execution_count": null,
   "metadata": {},
   "outputs": [],
   "source": [
    "import numpy as np"
   ]
  },
  {
   "cell_type": "markdown",
   "metadata": {},
   "source": [
    "## 1. Creating Arrays\n",
    "There are multiple ways to create arrays using numpy, the main ones are:\n",
    "1. From Shape or Value\n",
    "2. From Existing lists\n",
    "3. From Numerical Ranges\n",
    "4. From Random Numbers"
   ]
  },
  {
   "cell_type": "markdown",
   "metadata": {},
   "source": [
    "-------------"
   ]
  },
  {
   "cell_type": "markdown",
   "metadata": {},
   "source": [
    "#### 1.1. From shape or Value"
   ]
  },
  {
   "cell_type": "markdown",
   "metadata": {},
   "source": [
    "When creating an array with a Shape or Value you have to options:\n",
    "* You pass in an integer -> 1D Array\n",
    "* You pass in a tuple with n-elements to specify the shape -> n-D Array\n",
    "\n",
    "For example:\n",
    "* 1-D : shape = (3,) -> 3 Rows. \n",
    "* 2-D : shape = (3, 2) -> 3 Rows, 2 Columns.\n",
    "* 3-D : shape = (3, 2, 4) -> 3 Rows, 2 Columns, 4 Depth/Height/...\n",
    "* 12-D? : shape = (3, 2, 4, 4, 2, 5, 1, 2, 5, 6, 4, 3) -> 3 Rows, 2 Columns, 4 Depth/Height/..."
   ]
  },
  {
   "cell_type": "code",
   "execution_count": null,
   "metadata": {},
   "outputs": [],
   "source": [
    "# First start with 1D then show how we can do it 2D\n",
    "np.zeros((3, 2))\n",
    "np.ones(5)\n",
    "np.full((5, 4), 2) #np.twos() \n",
    "np.identity(4)"
   ]
  },
  {
   "cell_type": "markdown",
   "metadata": {},
   "source": [
    "#### 1.2. From Existing list"
   ]
  },
  {
   "cell_type": "markdown",
   "metadata": {},
   "source": [
    "To create a numpy array from an existing list it has to be homoegeneous. (Same number of *R* / *C*)\n",
    "\n",
    "You can specify the data type (dtype) of your numpy List (int, float, object, ...)"
   ]
  },
  {
   "cell_type": "code",
   "execution_count": null,
   "metadata": {},
   "outputs": [],
   "source": [
    "a_list = [[0, 0, 0.5], [1, 1, 1]]\n",
    "np.array(a_list, dtype=np.float32) #Discuss about types\n"
   ]
  },
  {
   "cell_type": "markdown",
   "metadata": {},
   "source": [
    "#### 1.3. From Numerical Ranges"
   ]
  },
  {
   "cell_type": "markdown",
   "metadata": {},
   "source": [
    "When it comes to calculs and functions, this is the most common way to creat an array, two choices:\n",
    "* Specifying the spacing between each element (arange)\n",
    "* Specifying the number of elements (linspace)"
   ]
  },
  {
   "cell_type": "code",
   "execution_count": null,
   "metadata": {},
   "outputs": [],
   "source": [
    "np.arange(0, 10, 1)\n",
    "np.linspace(0, 10, 11)"
   ]
  },
  {
   "cell_type": "markdown",
   "metadata": {},
   "source": [
    "#### 1.4. From random numbers"
   ]
  },
  {
   "cell_type": "markdown",
   "metadata": {},
   "source": [
    "When you want to generate random numbers you can do it very easily.\n",
    "* Random Natural Numbers: ```np.random.randint(low, high, shape)```\n",
    "* Random Real Numbers between [0, 1): ```np.random.rand(row, column, ...)``` \n",
    "* Random Real Numbers between [0, 1) following a normal Distribution: ```np.random.randn(row, column, ...)``` "
   ]
  },
  {
   "cell_type": "code",
   "execution_count": null,
   "metadata": {},
   "outputs": [],
   "source": [
    "#Random numbers\n",
    "np.random.randint(0, 10, (3, 3))\n",
    "np.random.rand(3, 3, 2) # or np.random.random((3, 3))\n",
    "np.random.randn(3, 3)"
   ]
  },
  {
   "cell_type": "markdown",
   "metadata": {},
   "source": [
    "Now you know how to create an Array... what can you do with it?"
   ]
  },
  {
   "cell_type": "markdown",
   "metadata": {},
   "source": [
    "## 2. Array Managment"
   ]
  },
  {
   "cell_type": "markdown",
   "metadata": {},
   "source": [
    "Once you have created an Array, you can manage and manipulate it in various ways, including reshaping, combining, and modifying arrays. Here are some key aspects of array manipulation in NumPy:"
   ]
  },
  {
   "cell_type": "code",
   "execution_count": null,
   "metadata": {},
   "outputs": [],
   "source": [
    "vector = np.array([[0, 1, 2, 3],\n",
    "                   [4, 5, 6, 5]])\n",
    "\n",
    "vector.shape "
   ]
  },
  {
   "cell_type": "markdown",
   "metadata": {},
   "source": [
    "You can change the shape of the array:\n",
    "* Transposing an array  with vector.T (transpose) -> Row becomes Column, Column becomes Row\n",
    "* Flattenning down n-D arrays into 1-D arrays\n",
    "* Reshaping an existing array"
   ]
  },
  {
   "cell_type": "code",
   "execution_count": null,
   "metadata": {},
   "outputs": [],
   "source": [
    "vector = np.array([[0, 1, 2, 3], # 3 Rows, 4 Columns\n",
    "                   [4, 5, 6, 7],\n",
    "                   [8, 9, 10, 11],])\n",
    "\n",
    "vector.T\n",
    "np.ravel(vector) #np.flatten()\n",
    "np.reshape(vector, (3, 2, -1)) # -1 for the remaining dimensions"
   ]
  },
  {
   "cell_type": "markdown",
   "metadata": {},
   "source": [
    "When you want to copy an array use the ```np.copy``` function!"
   ]
  },
  {
   "cell_type": "code",
   "execution_count": null,
   "metadata": {},
   "outputs": [],
   "source": [
    "array_a = np.array([[0, 1, 2],\n",
    "                   [3, 4, 5]])\n",
    "array_b = array_a #use np.copy\n",
    "\n",
    "array_b is array_a\n",
    "\n",
    "array_a[0, 0] = 1\n",
    "array_b"
   ]
  },
  {
   "cell_type": "markdown",
   "metadata": {},
   "source": [
    "You can also add elements to an array by appending, concatenating or stacking (horizontally or vertically)"
   ]
  },
  {
   "cell_type": "code",
   "execution_count": null,
   "metadata": {},
   "outputs": [],
   "source": [
    "array_a = np.array([0, 1, 2])\n",
    "array_b = np.array([3, 4, 5])\n",
    "\n",
    "np.append(array_a, array_b)\n",
    "np.concatenate((array_a, array_b))\n",
    "np.vstack((array_a, array_b))\n",
    "np.hstack((array_a, array_b))"
   ]
  },
  {
   "cell_type": "markdown",
   "metadata": {},
   "source": [
    "And deleting elements using ```np.delete(array, index, axis)``` very easily:"
   ]
  },
  {
   "cell_type": "code",
   "execution_count": null,
   "metadata": {},
   "outputs": [],
   "source": [
    "array_a = np.array([[0, 1, 2],\n",
    "                    [3, 4, 5],\n",
    "                    [6, 7, 8]])\n",
    "\n",
    "np.delete(array_a, 0, axis=1)"
   ]
  },
  {
   "cell_type": "markdown",
   "metadata": {},
   "source": [
    "## 3. Array Operations"
   ]
  },
  {
   "cell_type": "markdown",
   "metadata": {},
   "source": [
    "Array operations in NumPy involve performing element-wise operations, mathematical operations, and broadcasting. Here are some key aspects of array operations in NumPy:"
   ]
  },
  {
   "cell_type": "markdown",
   "metadata": {},
   "source": [
    "#### 3.1. Element Wise Operations "
   ]
  },
  {
   "cell_type": "markdown",
   "metadata": {},
   "source": [
    "The element wise operations include:\n",
    "* Arithmatical Operators: ```+ - * / % **```\n",
    "* Comparaison Operators: ```== != <  >``` (This returns an array of ```True/False```)"
   ]
  },
  {
   "cell_type": "code",
   "execution_count": null,
   "metadata": {},
   "outputs": [],
   "source": [
    "array = np.array([1, 2, 3, 4, 5])\n",
    "array == 0"
   ]
  },
  {
   "cell_type": "markdown",
   "metadata": {},
   "source": [
    "#### 3.2. Methematical Operations"
   ]
  },
  {
   "cell_type": "markdown",
   "metadata": {},
   "source": [
    "Numpy provides a very wide range of mathematical functions:\n",
    "* Trigonometric functions: ```cos(), sin(), tan(), arcsin(), ...```\n",
    "* Hyperbolic functions: ```sinh(), cosh(), arcsinh(), ...```\n",
    "* Exponents & Logarithmic: ```exp(), log(), log10(), ...```\n",
    "* Etc..."
   ]
  },
  {
   "cell_type": "code",
   "execution_count": null,
   "metadata": {},
   "outputs": [],
   "source": [
    "theta = np.linspace(0, 2*np.pi, 100)\n",
    "y = np.cos(theta)**2 + np.sin(theta)**2\n",
    "\n",
    "import matplotlib.pyplot as plt \n",
    "plt.plot(theta, y)"
   ]
  },
  {
   "cell_type": "markdown",
   "metadata": {},
   "source": [
    "#### 3.3. Broadcasting"
   ]
  },
  {
   "cell_type": "markdown",
   "metadata": {},
   "source": [
    "NumPy supports broadcasting, which allows you to perform operations on arrays of different shapes."
   ]
  },
  {
   "cell_type": "code",
   "execution_count": null,
   "metadata": {},
   "outputs": [],
   "source": [
    "array_1 = np.array([[1, 2, 3], [4, 5, 6]])\n",
    "array_2 = np.array([10, 20, 30])\n",
    "\n",
    "array_1 + array_2"
   ]
  },
  {
   "cell_type": "markdown",
   "metadata": {},
   "source": [
    "## 4. Indexing and Slicing "
   ]
  },
  {
   "cell_type": "markdown",
   "metadata": {},
   "source": [
    "Indexing and slicing in NumPy are powerful techniques for accessing and manipulating elements within arrays."
   ]
  },
  {
   "cell_type": "markdown",
   "metadata": {},
   "source": [
    "#### 4.1. Indexing"
   ]
  },
  {
   "cell_type": "markdown",
   "metadata": {},
   "source": [
    "When it comes to indexing in numpy, you have three options to do so:\n",
    "* Single Element Indexing (Exactly like regular lists): ```array[index]```\n",
    "* Multi-dimensional Indexing: ```array[index1, index2, ...]```\n",
    "* Boolean Indexing: Using boolean to filter elements based on condition ```array[mask]``` (mask: comparaison operator)"
   ]
  },
  {
   "cell_type": "code",
   "execution_count": null,
   "metadata": {},
   "outputs": [],
   "source": [
    "array_1 = np.array([1, 2, 3, 4, 5])\n",
    "\n",
    "array_2 = np.array([[1, 2, 3],\n",
    "                    [4, 5, 6],\n",
    "                    [7, 8, 9],])\n",
    "\n",
    "# Indexing and Slicing\n",
    "\n"
   ]
  },
  {
   "cell_type": "code",
   "execution_count": 28,
   "metadata": {},
   "outputs": [
    {
     "data": {
      "text/plain": [
       "array([3, 9])"
      ]
     },
     "execution_count": 28,
     "metadata": {},
     "output_type": "execute_result"
    }
   ],
   "source": [
    "array_1 = np.array([-1, 2, 3, 4, -5, 6, -7, 8, 9, 10])\n",
    "\n",
    "array_1[(array_1 %2 == 1) & (array_1 > 0)]"
   ]
  },
  {
   "cell_type": "markdown",
   "metadata": {},
   "source": [
    "## 5. Statistics\n"
   ]
  },
  {
   "cell_type": "markdown",
   "metadata": {},
   "source": [
    "NumPy provides a variety of statistical functions for data analysis and manipulation. Here are some key aspects of NumPy statistics:"
   ]
  },
  {
   "cell_type": "code",
   "execution_count": 34,
   "metadata": {},
   "outputs": [
    {
     "data": {
      "text/plain": [
       "15"
      ]
     },
     "execution_count": 34,
     "metadata": {},
     "output_type": "execute_result"
    }
   ],
   "source": [
    "data = np.array([1, 2, 3, 4, 5])\n",
    "\n",
    "np.average(data)\n",
    "\n",
    "np.min(data)\n",
    "np.argmin(data)\n",
    "\n",
    "np.max(data)\n",
    "np.argmax(data)\n",
    "\n",
    "np.sum(data)"
   ]
  }
 ],
 "metadata": {
  "kernelspec": {
   "display_name": "Python 3",
   "language": "python",
   "name": "python3"
  },
  "language_info": {
   "codemirror_mode": {
    "name": "ipython",
    "version": 3
   },
   "file_extension": ".py",
   "mimetype": "text/x-python",
   "name": "python",
   "nbconvert_exporter": "python",
   "pygments_lexer": "ipython3",
   "version": "3.12.1"
  }
 },
 "nbformat": 4,
 "nbformat_minor": 2
}
