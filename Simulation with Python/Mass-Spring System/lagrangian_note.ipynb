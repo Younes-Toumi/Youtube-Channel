{
 "cells": [
  {
   "attachments": {},
   "cell_type": "markdown",
   "metadata": {},
   "source": [
    "## Importing Libraries\n",
    "\n",
    "In this block of code, we import the necessary libraries for numerical integration and symbolic computation.\n",
    "\n",
    "- **NumPy (`np`):** The must library for any scenario.\n",
    "- **SciPy (`odeint`):** A submodule of SciPy that provides functions for integrating systems of ordinary differential equations.\n",
    "- **SymPy (`sm`):** A library for symbolic mathematics, allowing us to work with symbolic expressions and equations.\n",
    "\n",
    "These libraries will help us solve and analyse the mass-spring system using both numerical and symbolic methods.\n"
   ]
  },
  {
   "cell_type": "code",
   "execution_count": 1,
   "metadata": {},
   "outputs": [],
   "source": [
    "import numpy as np\n",
    "from scipy.integrate import odeint\n",
    "import sympy as sm"
   ]
  },
  {
   "attachments": {},
   "cell_type": "markdown",
   "metadata": {},
   "source": [
    "## Defining Symbols and Variables\n",
    "\n",
    "In this block of code, we define the symbolic variables and the position function for the mass-spring system.\n",
    "Using `sympy.symbols()`"
   ]
  },
  {
   "cell_type": "code",
   "execution_count": 12,
   "metadata": {},
   "outputs": [
    {
     "data": {
      "text/latex": [
       "$\\displaystyle m$"
      ],
      "text/plain": [
       "m"
      ]
     },
     "execution_count": 12,
     "metadata": {},
     "output_type": "execute_result"
    }
   ],
   "source": [
    "t = sm.symbols('t')\n",
    "m, k = sm.symbols('m k', positive=True)\n",
    "\n",
    "q = sm.symbols('q', cls=sm.Function) # sm.Function states that the position is a function\n",
    "q = q(t) # Specifying the variable\n"
   ]
  },
  {
   "attachments": {},
   "cell_type": "markdown",
   "metadata": {},
   "source": [
    "## Calculating Derivatives\n",
    "\n",
    "In this block of code, we calculate the first and second derivatives of the position function with respect to time.\n",
    "Using `sympy.diff()`"
   ]
  },
  {
   "cell_type": "code",
   "execution_count": 15,
   "metadata": {},
   "outputs": [],
   "source": [
    "dq_dt = sm.diff(q, t) # Velocity\n",
    "ddq_ddt = sm.diff(dq_dt, t) # Acceleration\n"
   ]
  },
  {
   "attachments": {},
   "cell_type": "markdown",
   "metadata": {},
   "source": [
    "## Defining Kinetic and Potential Energies\n",
    "\n",
    "In this block of code, we define the kinetic energy $T$, potential energy $V$, and the Lagrangian $L$ for the mass-spring system.\n",
    "\n",
    "$ T = \\frac{1}{2} \\ m \\ (\\frac{dq(t)}{dt})^2 $ \n",
    "\n",
    "$ V = \\frac{1}{2} \\ k \\ q(t)^2 $\n",
    "\n",
    "$ L = T - V $"
   ]
  },
  {
   "cell_type": "code",
   "execution_count": 20,
   "metadata": {},
   "outputs": [],
   "source": [
    "T = 1/2 * m * dq_dt**2\n",
    "V = 1/2 * k * q**2\n",
    "L = T - V"
   ]
  },
  {
   "attachments": {},
   "cell_type": "markdown",
   "metadata": {},
   "source": [
    "## Formulating Lagrange's Equation\n",
    "\n",
    "In this block of code, we formulate Lagrange's equation for the mass-spring system.\n",
    "\n",
    "$ \\frac{d}{dt} \\left(\\frac{\\partial L}{\\partial \\dot{q}}\\right) - \\frac{\\partial L}{\\partial q} = 0\n",
    " $\n",
    "\n"
   ]
  },
  {
   "cell_type": "code",
   "execution_count": 23,
   "metadata": {},
   "outputs": [
    {
     "data": {
      "text/latex": [
       "$\\displaystyle 1.0 k q{\\left(t \\right)} + 1.0 m \\frac{d^{2}}{d t^{2}} q{\\left(t \\right)}$"
      ],
      "text/plain": [
       "1.0*k*q(t) + 1.0*m*Derivative(q(t), (t, 2))"
      ]
     },
     "execution_count": 23,
     "metadata": {},
     "output_type": "execute_result"
    }
   ],
   "source": [
    "dL_d_dq = sm.diff(L, dq_dt)\n",
    "L_equation = sm.diff(dL_d_dq, t) - sm.diff(L, q) # use .simplyfy() if necessary\n",
    "L_equation = L_equation.simplify()"
   ]
  },
  {
   "attachments": {},
   "cell_type": "markdown",
   "metadata": {},
   "source": [
    "## Creating a Function for Solving Lagrange's Equation\n",
    "\n",
    "In this code block, we create a function that solves Lagrange's equation numerically for the mass-spring system.\n",
    "\n",
    "- **`lagrange_eq_func`:** This variable holds a function obtained using `sm.lambdify()`, a function from SymPy that converts the symbolic equation `L_equation` into a callable function.\n",
    "\n",
    "- **`sm.solve(L_equation, ddq)[0]`:** This solves the equation `L_equation` for (`ddq`). The `[0]` selects the first solution returned by SymPy.\n",
    "\n",
    "The resulting `lagrange_eq_func` is a function that takes the specified variables as input and computes the second derivative of the position with respect to time according to Lagrange's equation."
   ]
  },
  {
   "cell_type": "code",
   "execution_count": 24,
   "metadata": {},
   "outputs": [
    {
     "data": {
      "text/latex": [
       "$\\displaystyle - \\frac{k q{\\left(t \\right)}}{m}$"
      ],
      "text/plain": [
       "-k*q(t)/m"
      ]
     },
     "execution_count": 24,
     "metadata": {},
     "output_type": "execute_result"
    }
   ],
   "source": [
    "lagrange_eq = sm.solve(L_equation, ddq_ddt)[0]\n",
    "lagrange_eq_func = sm.lambdify((q, t, m, k), lagrange_eq)\n"
   ]
  },
  {
   "attachments": {},
   "cell_type": "markdown",
   "metadata": {},
   "source": [
    "# Numerical Integration using Euler Method\n",
    "\n",
    "## Overview\n",
    "\n",
    "In numerical simulations, the Euler method is a simple and intuitive approach for solving ordinary differential equations (ODEs). It is based on the Taylor series expansion, specifically the first-order approximation.\n",
    "\n",
    "## Euler Method\n",
    "\n",
    "The Euler method update formula for a variable $y$ over a time step $\\Delta t$ is given by:\n",
    "\n",
    "$ y_{n+1} = y_n + \\frac{dy}{dt} \\Delta t $\n",
    "\n",
    "Here:\n",
    "- $ y_{n+1} $ is the updated value at the next time step.\n",
    "- $ y_n $ is the current value.\n",
    "- $ \\frac{dy}{dt} $ is the derivative at the current state.\n",
    "- $ \\Delta t $ is the time step.\n",
    "\n",
    "## Application to a Mass-Spring System\n",
    "\n",
    "Consider a mass-spring system described by the following equations:\n",
    "\n",
    "$ \\frac{dq}{dt} = v $\n",
    "\n",
    "$ \\frac{dv}{dt} = -\\frac{k}{m}q $\n",
    "\n",
    "where $ q $ is the position and $ v $ is the velocity of the mass.\n",
    "\n",
    "### Euler Method Steps\n",
    "\n",
    "1. **Compute Derivatives:**\n",
    "\n",
    "   $ \\frac{dq}{dt} = v_n $\n",
    "\n",
    "   $ \\frac{dv}{dt} = -\\frac{k}{m}q_n $\n",
    "\n",
    "2. **Update State:**\n",
    "\n",
    "   $ q_{n+1} = q_n + \\frac{dq}{dt} \\Delta t $\n",
    "   \n",
    "   $ v_{n+1} = v_n + \\frac{dv}{dt} \\Delta t $\n",
    "\n",
    "3. **Updated State:**\n",
    "\n",
    "   $ y_{n+1} = [q_{n+1}, v_{n+1}] $\n",
    "\n",
    "### Example\n",
    "\n",
    "Suppose the initial state is $ y_0 = [1, 0] $ (position = 1, velocity = 0) and the time step is $ \\Delta t = 0.1 $, and having $\\frac{k}{m} = 4$.\n",
    "\n",
    "```python\n",
    "# Initial state\n",
    "y_n = [1, 0]\n",
    "\n",
    "# Compute derivatives\n",
    "dq_dt = y_n[1]\n",
    "dv_dt = -4 * y_n[0]\n",
    "\n",
    "# Update state\n",
    "q_n1 = y_n[0] + dq_dt * dt\n",
    "v_n1 = y_n[1] + dv_dt * dt\n",
    "\n",
    "# Updated state\n",
    "y_n1 = [q_n1, v_n1]\n"
   ]
  },
  {
   "cell_type": "code",
   "execution_count": 7,
   "metadata": {},
   "outputs": [],
   "source": [
    "# Initial conditions & Constants\n",
    "initial_conditions = [1.0, 0.0]  # initial position and velocity\n",
    "m_val = 2\n",
    "k_val = 2\n",
    "\n",
    "# Function representing the system of first-order ODEs\n",
    "def system_of_odes(y, t, m, k):\n",
    "    q, dq_dt = y\n",
    "    ddq_ddt = lagrange_eq_func(q, t, m, k)\n",
    "    return [dq_dt, ddq_ddt]\n",
    "\n",
    "# Time points for numerical solution\n",
    "time_points = np.linspace(0, 10, 100)\n",
    "\n",
    "# Solve the system of ODEs\n",
    "solution = odeint(system_of_odes, initial_conditions, time_points, args=(m_val, k_val))\n",
    "\n",
    "# Extract position and velocity from the solution\n",
    "positions = solution[:, 0]\n",
    "velocities = solution[:, 1]\n"
   ]
  },
  {
   "cell_type": "code",
   "execution_count": 25,
   "metadata": {},
   "outputs": [
    {
     "data": {
      "image/png": "[encoded data removed]",
      "text/plain": [
       "<Figure size 640x480 with 1 Axes>"
      ]
     },
     "metadata": {},
     "output_type": "display_data"
    }
   ],
   "source": [
    "import matplotlib.pyplot as plt\n",
    "\n",
    "plt.plot(time_points, positions, label='positions')\n",
    "plt.plot(time_points, velocities, label='velocities')\n",
    "plt.legend()\n",
    "plt.grid()"
   ]
  }
 ],
 "metadata": {
  "kernelspec": {
   "display_name": "Python 3",
   "language": "python",
   "name": "python3"
  },
  "language_info": {
   "codemirror_mode": {
    "name": "ipython",
    "version": 3
   },
   "file_extension": ".py",
   "mimetype": "text/x-python",
   "name": "python",
   "nbconvert_exporter": "python",
   "pygments_lexer": "ipython3",
   "version": "3.10.8"
  },
  "orig_nbformat": 4,
  "vscode": {
   "interpreter": {
    "hash": "369f2c481f4da34e4445cda3fffd2e751bd1c4d706f27375911949ba6bb62e1c"
   }
  }
 },
 "nbformat": 4,
 "nbformat_minor": 2
}
