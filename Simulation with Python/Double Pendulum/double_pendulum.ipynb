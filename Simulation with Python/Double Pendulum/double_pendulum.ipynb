{
 "cells": [
  {
   "cell_type": "markdown",
   "metadata": {},
   "source": [
    "## Solving the Double Pendulum Problem in Python"
   ]
  },
  {
   "attachments": {},
   "cell_type": "markdown",
   "metadata": {},
   "source": [
    "Importing the Essential Libraries"
   ]
  },
  {
   "cell_type": "code",
   "execution_count": null,
   "metadata": {},
   "outputs": [],
   "source": [
    "import numpy as np\n",
    "from scipy.integrate import odeint\n",
    "import sympy as sm"
   ]
  },
  {
   "attachments": {},
   "cell_type": "markdown",
   "metadata": {},
   "source": [
    "Defining Symbols and Variables Using `sympy.symbols()`"
   ]
  },
  {
   "cell_type": "code",
   "execution_count": 26,
   "metadata": {},
   "outputs": [
    {
     "data": {
      "text/latex": [
       "$\\displaystyle \\sin{\\left(\\theta_{1}{\\left(t \\right)} \\right)}$"
      ],
      "text/plain": [
       "sin(\\theta_1(t))"
      ]
     },
     "execution_count": 26,
     "metadata": {},
     "output_type": "execute_result"
    }
   ],
   "source": [
    "t = sm.symbols('t')\n",
    "\n",
    "m_1, m_2, g = sm.symbols('m_1 m_2 g', positive=True)\n",
    "\n",
    "the1, the2 = sm.symbols(r'\\theta_1, \\theta_2', cls=sm.Function) # sm.Function states that the position is a function\n",
    "\n",
    "the1 = the1(t) # Specifying the variable\n",
    "the2 = the2(t)\n",
    "\n",
    "x1 = sm.sin(the1)\n",
    "y1 = -sm.cos(the1)\n",
    "\n",
    "x2 = x1 + sm.sin(the2)\n",
    "y2 = y1 + -sm.cos(the2)\n",
    "\n",
    "x1"
   ]
  },
  {
   "attachments": {},
   "cell_type": "markdown",
   "metadata": {},
   "source": [
    "Calculating the first and second derivative of $\\theta_i$: $\\frac{d\\theta_i}{dt}$ and $\\frac{d^2\\theta_i}{dt^2}$, As well as ${v_x}_i$ and ${v_y}_i$ (for Energies) using `sympy.diff()`\n",
    "\n",
    "i = 1 -> for the $1^{st}$ mass\n",
    "\n",
    "i = 2 -> for the $2^{nd}$ mass\n"
   ]
  },
  {
   "cell_type": "code",
   "execution_count": 28,
   "metadata": {},
   "outputs": [],
   "source": [
    "the1_d = sm.diff(the1, t) # Angular Velocity\n",
    "the1_dd = sm.diff(the1_d, t) # Angular Acceleration\n",
    "\n",
    "x1_d = sm.diff(x1, t)\n",
    "y1_d = sm.diff(y1, t)\n",
    "\n",
    "the2_d = sm.diff(the2, t) # Angular Velocity\n",
    "the2_dd = sm.diff(the2_d, t) # Angular Acceleration\n",
    "\n",
    "x2_d = sm.diff(x2, t)\n",
    "y2_d = sm.diff(y2, t)\n"
   ]
  },
  {
   "attachments": {},
   "cell_type": "markdown",
   "metadata": {},
   "source": [
    "Defining Kinetic $T$ and Potential Energies $V$ and the Lagrangian $L$ for the double pendulum for each mass.\n",
    "\n",
    "$ T = \\frac{1}{2} \\ m \\ ((\\frac{dx(t)}{dt})^2 + (\\frac{dy(t)}{dt})^2) $ \n",
    "\n",
    "$ V = m \\ g \\ y(t) $\n",
    "\n",
    "$ L = T - V $"
   ]
  },
  {
   "cell_type": "code",
   "execution_count": 30,
   "metadata": {},
   "outputs": [],
   "source": [
    "T_1 = 1/2 * m_1 * ((x1_d)**2+(y1_d)**2)\n",
    "T_2 = 1/2 * m_2 * ((x2_d)**2+(y2_d)**2)\n",
    "\n",
    "V_1 = m_1 * g * y1\n",
    "V_2 = m_2 * g * y2\n",
    "\n",
    "L = T_1 + T_2 - (V_2 + V_1)"
   ]
  },
  {
   "attachments": {},
   "cell_type": "markdown",
   "metadata": {},
   "source": [
    "We formulate Lagrange's Equation for a non-damped system, since we have two mass, we have two equations $q = \\{\\theta_1, \\theta_2 \\}$:\n",
    "\n",
    "$ \\frac{d}{dt} \\left(\\frac{\\partial L}{\\partial \\dot{\\theta_1}}\\right) - \\frac{\\partial L}{\\partial \\theta_1} = 0\n",
    " $\n",
    "\n",
    "$ \\frac{d}{dt} \\left(\\frac{\\partial L}{\\partial \\dot{\\theta_2}}\\right) - \\frac{\\partial L}{\\partial \\theta_2} = 0\n",
    " $\n",
    "\n"
   ]
  },
  {
   "cell_type": "code",
   "execution_count": 31,
   "metadata": {},
   "outputs": [
    {
     "data": {
      "text/latex": [
       "$\\displaystyle g m_{1} \\sin{\\left(\\theta_{1}{\\left(t \\right)} \\right)} + g m_{2} \\sin{\\left(\\theta_{1}{\\left(t \\right)} \\right)} + m_{1} \\frac{d^{2}}{d t^{2}} \\theta_{1}{\\left(t \\right)} + m_{2} \\sin{\\left(\\theta_{1}{\\left(t \\right)} - \\theta_{2}{\\left(t \\right)} \\right)} \\left(\\frac{d}{d t} \\theta_{2}{\\left(t \\right)}\\right)^{2} + m_{2} \\cos{\\left(\\theta_{1}{\\left(t \\right)} - \\theta_{2}{\\left(t \\right)} \\right)} \\frac{d^{2}}{d t^{2}} \\theta_{2}{\\left(t \\right)} + m_{2} \\frac{d^{2}}{d t^{2}} \\theta_{1}{\\left(t \\right)}$"
      ],
      "text/plain": [
       "g*m_1*sin(\\theta_1(t)) + g*m_2*sin(\\theta_1(t)) + m_1*Derivative(\\theta_1(t), (t, 2)) + m_2*sin(\\theta_1(t) - \\theta_2(t))*Derivative(\\theta_2(t), t)**2 + m_2*cos(\\theta_1(t) - \\theta_2(t))*Derivative(\\theta_2(t), (t, 2)) + m_2*Derivative(\\theta_1(t), (t, 2))"
      ]
     },
     "execution_count": 31,
     "metadata": {},
     "output_type": "execute_result"
    }
   ],
   "source": [
    "\n",
    "LE1 = sm.diff(sm.diff(L, the1_d), t) - sm.diff(L, the1)\n",
    "LE2 = sm.diff(sm.diff(L, the2_d), t) - sm.diff(L, the2)\n",
    "\n",
    "# use .simplyfy() if necessary\n",
    "LE1 = LE1.simplify()\n",
    "LE2 = LE2.simplify()\n"
   ]
  },
  {
   "attachments": {},
   "cell_type": "markdown",
   "metadata": {},
   "source": [
    "We create a function that solves Lagrange's equation numerically for the double pendulum system.\n",
    "\n",
    "- **`sm.solve([LE1, LE2], the1_dd, the2_dd)`:** This solves the equations `LE1` and `LE2` for `the1_dd` and `the2_dd` respectively. The result is an array containing the solutions:\n",
    "\n",
    "$\\frac{d^2 \\theta_1}{dt^2} = ...$ `# solutions[the1_dd]`\n",
    "\n",
    "$\\frac{d^2 \\theta_2}{dt^2} = ...$ `# solutions[the2_dd]`\n",
    "\n",
    "\n",
    "We convert the symbolic solutions into numerical functions using `sm.lambdify()`, it takes the specified variables as input and computes the second derivative of the position with respect to time according to Lagrange's equation."
   ]
  },
  {
   "cell_type": "code",
   "execution_count": 34,
   "metadata": {},
   "outputs": [],
   "source": [
    "solutions = sm.solve([LE1, LE2], the1_dd, the2_dd)\n",
    "LEF1 = sm.lambdify((the1, the2, the1_d, the2_d, t, m_1, m_2, g), solutions[the1_dd])\n",
    "LEF2 = sm.lambdify((the1, the2, the1_d, the2_d, t, m_1, m_2, g), solutions[the2_dd])\n"
   ]
  },
  {
   "attachments": {},
   "cell_type": "markdown",
   "metadata": {},
   "source": [
    "We solve our problem numerically using `odeint()` the provided function of `scipy.integrate`.\n",
    "We are interessted in finding the angles and angular velocities of the two mass in form of a vector:\n",
    "\n",
    "$ \\vec{y} = (\\theta_1, \\dot{\\theta_1}, \\theta_2, \\dot{\\theta_2})$\n",
    "\n",
    "In numerical analysis, the Runge–Kutta are a family of implicit and explicit iterative methods, which include the Euler method, used in temporal discretization for the approximate solutions of simultaneous nonlinear equations.\n",
    "\n",
    "$ \\vec{y}_{n+1} = \\vec{y}_{n} + \\Delta t \\ f(y_n, t) $\n",
    "\n",
    "To make it simpler think of it as the Euler Method:\n",
    "\n",
    "$ \\vec{y}_{n+1} = \\vec{y}_{n} + \\Delta t \\ \\frac{d\\vec{y}}{dt} $\n",
    "\n",
    "In other words, we have the following numerical scheme:\n",
    "\n",
    "$ {\\theta_1}_{i+1} = {\\theta_1}_{i} + \\Delta t \\ \\frac{d\\theta_1}{dt} $\n",
    "\n",
    "$ \\dot{\\theta_1}_{i+1} = \\dot{\\theta_1}_{i} + \\Delta t \\ \\frac{d^2\\theta_1}{dt^2} $\n",
    "\n",
    "$ {\\theta_2}_{i+1} = {\\theta_2}_{i} + \\Delta t \\ \\frac{d\\theta_2}{dt} $\n",
    "\n",
    "$ \\dot{\\theta_2}_{i+1} = \\dot{\\theta_2}_{i} + \\Delta t \\ \\frac{d^2\\theta_2}{dt^2} $\n",
    "\n",
    "In other words:\n",
    "\n",
    "$ \\vec{y}_{i+1} = \\vec{y}_{i} + \\Delta t \\ \\frac{d\\vec{y}}{dt} $\n"
   ]
  },
  {
   "cell_type": "code",
   "execution_count": 35,
   "metadata": {},
   "outputs": [
    {
     "data": {
      "text/plain": [
       "array([ 0.84147098,  0.83788971,  0.8269928 , ..., -0.65932389,\n",
       "       -0.70516272, -0.74334979])"
      ]
     },
     "execution_count": 35,
     "metadata": {},
     "output_type": "execute_result"
    }
   ],
   "source": [
    "# Initial conditions & Constants\n",
    "initial_conditions = [1.0, 0.0, 1.0, 0.0]  # Angle_1, Velocity_1, Angle_2, Velocity_2, \n",
    "m1_val = 1\n",
    "m2_val = 1\n",
    "g_val = 9.81\n",
    "\n",
    "# Function representing the system of first-order ODEs\n",
    "def system_of_odes(y, t, m_1, m_2, g):\n",
    "    the1, the1_d, the2, the2_d = y\n",
    "\n",
    "    the1_dd = LEF1(the1, the2, the1_d, the2_d, t, m_1, m_2, g)\n",
    "    the2_dd = LEF2(the1, the2, the1_d, the2_d, t, m_1, m_2, g)\n",
    "\n",
    "    return [the1_d, the1_dd, the2_d, the2_dd]\n",
    "\n",
    "# Time points for numerical solution\n",
    "time_points = np.linspace(0, 40, 1001)\n",
    "\n",
    "# Solve the system of ODEs\n",
    "solution = odeint(system_of_odes, initial_conditions, time_points, args=(m1_val, m2_val, g_val))\n",
    "\n",
    "# [ [the1_0, the1_d_0, the2_0, the2_d_0], t=0\n",
    "#   [the1_1, the1_d_1, the2_1, the2_d_1], t=t1\n",
    "#   [the1_2, the1_d_2, the2_2, the2_d_2], t=t2\n",
    "# ...\n",
    "\n",
    "# Extract position and velocity from the solution\n",
    "the1_sol = solution[:, 0]\n",
    "the1_d_sol = solution[:, 1]\n",
    "\n",
    "the2_sol = solution[:, 2]\n",
    "the2_d_sol = solution[:, 3]\n",
    "\n",
    "x1_pendulum = np.sin(the1_sol)\n",
    "y1_pendulum = -np.cos(the1_sol)\n",
    "\n",
    "x2_pendulum = x1_pendulum + np.sin(the2_sol)\n",
    "y2_pendulum = y1_pendulum + -np.cos(the2_sol)\n"
   ]
  },
  {
   "cell_type": "code",
   "execution_count": 36,
   "metadata": {},
   "outputs": [
    {
     "data": {
      "image/png": "[encoded data removed]",
      "text/plain": [
       "<Figure size 640x480 with 1 Axes>"
      ]
     },
     "metadata": {},
     "output_type": "display_data"
    }
   ],
   "source": [
    "import matplotlib.pyplot as plt\n",
    "from matplotlib.animation import FuncAnimation\n",
    "\n",
    "def update(frame):\n",
    "    pendulum1.set_data([0, x1_pendulum[frame]], [0, y1_pendulum[frame]])\n",
    "    mass1.set_data([x1_pendulum[frame]], [y1_pendulum[frame]])\n",
    "\n",
    "    pendulum2.set_data([x1_pendulum[frame], x2_pendulum[frame]], [y1_pendulum[frame], y2_pendulum[frame]])\n",
    "    mass2.set_data([x1_pendulum[frame]], [y1_pendulum[frame]])\n",
    "\n",
    "    return pendulum1, mass1\n",
    "\n",
    "fig, ax = plt.subplots()\n",
    "ax.set_xlim(-3, 3)\n",
    "ax.set_ylim(-3, 1)\n",
    "\n",
    "pendulum1, = ax.plot([0, x1_pendulum[0]], [0, y1_pendulum[0]], lw=2)\n",
    "mass1, = ax.plot([x1_pendulum[0]], [y1_pendulum[0]], 'o', markersize=10, color='red')\n",
    "\n",
    "pendulum2, = ax.plot([x1_pendulum[0], x2_pendulum[0]], [y1_pendulum[0], y2_pendulum[0]], lw=2)\n",
    "mass2, = ax.plot([x2_pendulum[0]], [y2_pendulum[0]], 'o', markersize=10, color='red')\n",
    "\n",
    "animation = FuncAnimation(fig, update, frames=len(time_points), interval=50, blit=True)\n",
    "\n",
    "plt.show()\n"
   ]
  }
 ],
 "metadata": {
  "kernelspec": {
   "display_name": "Python 3",
   "language": "python",
   "name": "python3"
  },
  "language_info": {
   "codemirror_mode": {
    "name": "ipython",
    "version": 3
   },
   "file_extension": ".py",
   "mimetype": "text/x-python",
   "name": "python",
   "nbconvert_exporter": "python",
   "pygments_lexer": "ipython3",
   "version": "3.10.8"
  },
  "orig_nbformat": 4,
  "vscode": {
   "interpreter": {
    "hash": "369f2c481f4da34e4445cda3fffd2e751bd1c4d706f27375911949ba6bb62e1c"
   }
  }
 },
 "nbformat": 4,
 "nbformat_minor": 2
}
