{
 "cells": [
  {
   "attachments": {},
   "cell_type": "markdown",
   "metadata": {},
   "source": [
    "# Solving ODEs in Python"
   ]
  },
  {
   "attachments": {},
   "cell_type": "markdown",
   "metadata": {},
   "source": [
    "When solving ODEs in Python, the scipy module offers are two main functions to do so:\n",
    "* `scipy.integrate.odeint`\n",
    "* `scipy.integrate.solve_ivp`\n",
    "\n",
    "If you dont have `scipy` installed, do a quick:\n",
    "`>>pip install scipy`"
   ]
  },
  {
   "attachments": {},
   "cell_type": "markdown",
   "metadata": {},
   "source": [
    "## What are ODE's?\n",
    "------\n"
   ]
  },
  {
   "attachments": {},
   "cell_type": "markdown",
   "metadata": {},
   "source": [
    "### Definition and Basic Concepts\n",
    "ODEs are mathematical equations that link a function $y$ to its derivatives $y', y'', y^{(3)}, ...$. \n",
    "The term \"ordinary\" signifies that these equations involve derivatives with respect to a single independent variable (for example time only).\n",
    "\n",
    "For example:\n",
    "* The Malthusian growth model:\n",
    "$$\\frac{dN}{dt} = rN$$\n",
    "\n",
    "* Newton's Law of Cooling: \n",
    "$$\\frac{dT}{dt} = k(T-T_{ambient})$$\n",
    "\n",
    "* Simple Harmonic Motion (Damped Spring-Mass):\n",
    "$$m\\frac{d^2 x}{dt^2} + b\\frac{dx}{dt} + kx = 0$$\n",
    "\n",
    "* Or Any Non-Temporal Mathematical ODEs:\n",
    "$$y' + y = 4$$\n",
    "$$y'' + 3y = e^{-2x}$$\n",
    "$$y'' + 2y' - 2y = 0$$\n",
    "\n",
    "Where $y' = \\frac{dy}{dx}$ and $y'' = \\frac{d^2 y}{dx^2}$\n",
    "\n",
    "\n",
    "ODEs can have general solutions, which include arbitrary constants, and particular solutions, which are obtained by specifying initial conditions or boundary values.\n",
    "\n",
    "#### 1. Initial Value Problems (IVPs):\n",
    "These involve specifying the values of the function and its derivatives at a single point, often denoted as $t = t_0$.\n",
    "\n",
    "$$ y'' + 2y' + y = 0$$\n",
    "* Initial conditions at $t_0$: $y(0) = 1$ and $y'(0) = 0$.\n",
    "\n",
    "\n",
    "#### 2. Boundary Value Problems (BVPs):\n",
    "These involve specifying values of the function at different points.\n",
    "$$ y'' + y = 0$$\n",
    "* Boundary conditions at $t = 0 s$ and $t = 10 s$: $y(0) = 0$ and $y(10) = \\pi$."
   ]
  },
  {
   "attachments": {},
   "cell_type": "markdown",
   "metadata": {},
   "source": [
    "## Logic behind solving ODEs Numerically with Python\n",
    "-------------------------------------"
   ]
  },
  {
   "attachments": {},
   "cell_type": "markdown",
   "metadata": {},
   "source": [
    "To be able to use `odetint` or `solve_ivp`, you have to package and define your ODE correctly.\n",
    "\n",
    "1. **Rearrange the terms of your ODE**: Highest order derivative in one side, all the rest on the other side.\n",
    "\n",
    "* Before:             $y'' + 2y' - 2y = 0$\n",
    "* After:              $y'' = -2y' + 2y $\n",
    "\n",
    "\n",
    "2. **Identify the Initial Conditions of your ODE**: If the Highest order of derivative is two -> Two initial Conditions.\n",
    "\n",
    "* $y'(0) = ...$\n",
    "* $y(0) = ...$\n",
    "\n",
    "3. **Identify the Interval in which you want to solve your ODE**: It should be a discret interval (spacial/temporal/...)\n",
    "\n",
    "* $0s < t < 10s$, across 100 points (each 0.1s)\n",
    "* [or] $0m < x < 1m$, across 100 points (each 0.01m)"
   ]
  },
  {
   "attachments": {},
   "cell_type": "markdown",
   "metadata": {},
   "source": [
    "## How does `odeint`/`solve_ivp` work? \n",
    "--------------------------------"
   ]
  },
  {
   "cell_type": "markdown",
   "metadata": {},
   "source": [
    "The function  ```odeint``` is used to simulate the evolution of a dynamic system described by ordinary differential equations. \n",
    "\n",
    "Inputs:\n",
    "* Initial Condition of the system.\n",
    "* A function describing the system of ode's $\\frac{d\\vec{S}}{dt} = A * \\vec{S}$ (```system_of_odes```)\n",
    "* The temproal domain in which we want to solve the system (```time_points```)\n",
    "* Additional Arguments"
   ]
  },
  {
   "cell_type": "markdown",
   "metadata": {},
   "source": [
    "How does it work?\n",
    "* We have $S_0$ at $t = t_0$ (Initial Condition) -> We want $S_1$ at $t = t_1$\n",
    "* We get $S_1$ utilizing the numerical scheme for calculating derivatives:\n",
    "\n",
    "$$\\frac{S_1 - S_0}{\\Delta t} = \\frac{dS}{dt}$$\n",
    "$$S_1 = S_0 + \\Delta t \\frac{dS}{dt}$$\n",
    "\n",
    "\n",
    "* We have $\\Delta t$ (interval of ```time_points```) we need $\\frac{dS}{dt}$.\n",
    "* We get $\\frac{dS}{dt}$ by replacing $S_0$ in our system of odes:\n",
    "\n",
    "$\\frac{d\\vec{S}}{dt} = A * \\vec{S_0}$\n",
    "\n",
    "* Once we computed $S_1$, we repeat the process across all time points."
   ]
  },
  {
   "cell_type": "markdown",
   "metadata": {},
   "source": [
    "## `odeint`/`solve_ivp` in Python \n",
    "--------------------------------"
   ]
  },
  {
   "cell_type": "markdown",
   "metadata": {},
   "source": [
    "`scipy.integrate.odeint(func, y0, t, args=(), rtol=None, atol=None, tfirst=False)`\n",
    "\n",
    "Relevant input:\n",
    "* `func`: Computes the derivate of $y$ at $t$\n",
    "* `y0`: Initial condition\n",
    "* `t`: Time points (must be monotone)\n",
    "* `args`: Constants, and others..\n",
    "\n",
    "(optionnal)\n",
    "\n",
    "* rtol\n",
    "* atol\n",
    "* tfirst"
   ]
  },
  {
   "cell_type": "markdown",
   "metadata": {},
   "source": [
    "For example lets solve: \n",
    "* The Malthusian growth model:\n",
    "$$\\frac{dN}{dt} = rN$$"
   ]
  },
  {
   "cell_type": "code",
   "execution_count": 6,
   "metadata": {},
   "outputs": [
    {
     "data": {
      "text/plain": [
       "[<matplotlib.lines.Line2D at 0x29f1d3c4ec0>]"
      ]
     },
     "execution_count": 6,
     "metadata": {},
     "output_type": "execute_result"
    },
    {
     "data": {
      "image/png": "[encoded data removed]",
      "text/plain": [
       "<Figure size 640x480 with 1 Axes>"
      ]
     },
     "metadata": {},
     "output_type": "display_data"
    }
   ],
   "source": [
    "import numpy as np \n",
    "from scipy.integrate import odeint\n",
    "\n",
    "# 1 - Constants, initial conditions and time points\n",
    "\n",
    "N_0 = 10    # Initial number of individuals\n",
    "r = 0.3       # Growth rate\n",
    "time_points = np.linspace(0, 10, 1001) # Interval of Study\n",
    "\n",
    "\n",
    "# 2 - Defining our function caracterizing our system of odes\n",
    "\n",
    "def system_of_odes(y, t, r):\n",
    "    N = y\n",
    "    dNdt = r*N\n",
    "    \n",
    "    return dNdt\n",
    "\n",
    "    \n",
    "\n",
    "\n",
    "# 3 - Solving the system of odes with odeint\n",
    "\n",
    "solution = odeint(system_of_odes, y0=N_0, t=time_points, args=(r,))\n",
    "solution\n",
    "\n",
    "import matplotlib.pyplot as plt \n",
    "\n",
    "plt.plot(time_points, solution)"
   ]
  },
  {
   "cell_type": "markdown",
   "metadata": {},
   "source": [
    "-------\n",
    "## Higher order ODEs\n",
    "\n",
    "* We have $S_0, S'_0$ at $t = t_0$ (Initial Condition) -> We want $S_1, S'_1$ at $t = t_1$\n",
    "* We get $S_1, S'_1$ utilizing the numerical scheme for calculating derivatives:\n",
    "\n",
    "$$\\frac{S'_1 - S'_0}{\\Delta t} = \\frac{d^2 S}{dt^2}$$\n",
    "$$S'_1 = S'_0 + \\Delta t \\frac{d^2 S}{dt^2}$$\n",
    "\n",
    "\n",
    "* We have $\\Delta t$ (interval of ```time_points```) we need $\\frac{d^2 S}{dt^2}$.\n",
    "* We get $\\frac{d^2 S}{dt^2}$ by replacing $S_0, S'_0$ in our system of odes:\n",
    "\n",
    "$\\frac{d^2\\vec{S}}{dt^2} = A * F(\\vec{S_0}, \\vec{S'_0})$\n",
    "\n",
    "* Once we computed $S'_1$, We use it to get $S_1$, and we repeat the process across all time points."
   ]
  },
  {
   "cell_type": "markdown",
   "metadata": {},
   "source": [
    "For example lets solve: \n",
    "* Simple Harmonic Motion (Damped Spring-Mass):\n",
    "$$m\\frac{d^2 x}{dt^2} + b\\frac{dx}{dt} + kx = 0$$\n",
    "\n",
    "$$\\frac{d^2 x}{dt^2} =  -\\frac{b}{m}\\frac{dx}{dt} - \\frac{k}{m}x$$"
   ]
  },
  {
   "cell_type": "code",
   "execution_count": 19,
   "metadata": {},
   "outputs": [
    {
     "data": {
      "text/plain": [
       "array([[ 1.00000000e+00,  0.00000000e+00,  1.00000000e+00,\n",
       "         0.00000000e+00],\n",
       "       [ 9.99501704e-01, -9.94851154e-03,  9.99501704e-01,\n",
       "        -9.94851154e-03],\n",
       "       [ 9.98013930e-01, -1.97881366e-02,  9.98013930e-01,\n",
       "        -1.97881366e-02],\n",
       "       ...,\n",
       "       [ 6.31523041e-03,  5.46386010e-04,  6.31523041e-03,\n",
       "         5.46386010e-04],\n",
       "       [ 6.36644086e-03,  4.77850931e-04,  6.36644086e-03,\n",
       "         4.77850931e-04],\n",
       "       [ 6.41080760e-03,  4.09522374e-04,  6.41080760e-03,\n",
       "         4.09522374e-04]])"
      ]
     },
     "execution_count": 19,
     "metadata": {},
     "output_type": "execute_result"
    }
   ],
   "source": [
    "# Solving 2nd Order ODE\n",
    "\n",
    "import numpy as np \n",
    "from scipy.integrate import odeint\n",
    "\n",
    "# 1 - Constants, initial conditions and time points\n",
    "m = 1 #kg\n",
    "b = 0.1 \n",
    "k = 0.1 #N/m\n",
    "\n",
    "init_conditions = [1.0, 0.0] #Displacement, Velocity\n",
    "time_points = np.linspace(0, 100, 1001)\n",
    "\n",
    "\n",
    "# 2 - Defining our function caracterizing our system of odes\n",
    "\n",
    "def system_of_odes(y, t, m, b, k):\n",
    "    x, x_dot = y\n",
    "\n",
    "    x_ddot = -b/m * x_dot - k/m * x\n",
    "\n",
    "    return x_dot, x_ddot\n",
    "\n",
    "\n",
    "# 3 - Solving the system of odes with odeint\n",
    "\n",
    "solutions = odeint(system_of_odes, y0=init_conditions, t=time_points, args=(m, b, k))\n",
    "x_sol = solutions[:, 0]\n",
    "x_dot_sol = solutions[:, 1]\n",
    "\n",
    "import matplotlib.pyplot as plt \n",
    "\n",
    "plt.plot(time_points, x_sol)\n",
    "plt.plot(time_points, x_dot_sol)"
   ]
  }
 ],
 "metadata": {
  "kernelspec": {
   "display_name": "Python 3",
   "language": "python",
   "name": "python3"
  },
  "language_info": {
   "codemirror_mode": {
    "name": "ipython",
    "version": 3
   },
   "file_extension": ".py",
   "mimetype": "text/x-python",
   "name": "python",
   "nbconvert_exporter": "python",
   "pygments_lexer": "ipython3",
   "version": "3.12.1"
  },
  "orig_nbformat": 4,
  "vscode": {
   "interpreter": {
    "hash": "369f2c481f4da34e4445cda3fffd2e751bd1c4d706f27375911949ba6bb62e1c"
   }
  }
 },
 "nbformat": 4,
 "nbformat_minor": 2
}
