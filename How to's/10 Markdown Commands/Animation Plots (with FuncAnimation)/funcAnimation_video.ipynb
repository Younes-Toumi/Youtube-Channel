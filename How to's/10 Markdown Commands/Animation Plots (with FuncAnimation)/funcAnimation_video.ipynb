{
 "cells": [
  {
   "cell_type": "markdown",
   "metadata": {},
   "source": [
    "# Using the FuncAnimation in Python for making Animations\n",
    "-------"
   ]
  },
  {
   "cell_type": "markdown",
   "metadata": {},
   "source": [
    "When animating plots in Python, the matplotlib module offers the following function:\n",
    "* `matplotlib.animation.FuncAnimation`\n",
    "\n",
    "If you don't have `matplotlib` installed, do a quick: `>> pip install matplotlib`"
   ]
  },
  {
   "cell_type": "markdown",
   "metadata": {},
   "source": [
    "## `FuncAnimation` in Python\n",
    "----------\n",
    "\n",
    "`matplotlib.animation.FuncAnimation(fig, func, frames=None, init_func=None, fargs=None, interval)`\n",
    "\n",
    "Relevant Inputs:\n",
    "* `fig`: The figure we want to animate\n",
    "* `func`: A function that updates our data (`func(frame, *fargs)`)\n",
    "* `frames`: Total number of frames\n",
    "* `fargs`: Additionnal Arguments\n",
    "* `interval`: Delay between each frame in [ms]\n",
    "\n",
    "(Optionnal)\n",
    "* `blit`-> Bool: Optimizing drawing\n",
    "\n",
    "Methods:\n",
    "* `pause()`: Pause the animation\n",
    "* `resume()`: Resume the animation.\n",
    "* `save()`: Saves the animation. "
   ]
  },
  {
   "cell_type": "markdown",
   "metadata": {},
   "source": [
    "---------------"
   ]
  },
  {
   "cell_type": "markdown",
   "metadata": {},
   "source": [
    "The core structure to use this function is the following:"
   ]
  },
  {
   "cell_type": "code",
   "execution_count": null,
   "metadata": {},
   "outputs": [],
   "source": [
    "import numpy as np \n",
    "import matplotlib.pyplot as plt\n",
    "from matplotlib.animation import FuncAnimation\n",
    "\n",
    "\n",
    "# - - - Defining our data here: - - - #\n",
    "\n",
    "\n",
    "# - - - Creating a figure and Axis with Additionnal configurations and styling of the plot: - - - #\n",
    "\n",
    "fig, axis = plt.subplots()\n",
    "animated_plot, = axis.plot([], []) # ',' is used because axis.plot returns an array\n",
    "\n",
    "axis.set_xlim([0, 10])\n",
    "axis.set_ylim([0, 10])\n",
    "axis.set_title(\"A dummy title\")\n",
    "\n",
    "plt.grid()\n",
    "\n",
    "# - - - Defining our update function - - - #\n",
    "\n",
    "def update(frame):\n",
    "    animated_plot.set_data() # Updating the data across [frame]\n",
    "\n",
    "    return animated_plot,\n",
    "\n",
    "\n",
    "animation = FuncAnimation(fig, update, ) # rest of arguments\n",
    "plt.show() "
   ]
  },
  {
   "cell_type": "markdown",
   "metadata": {},
   "source": [
    "### Usage Examples"
   ]
  },
  {
   "cell_type": "markdown",
   "metadata": {},
   "source": [
    "First Example: simple sin wave"
   ]
  },
  {
   "cell_type": "code",
   "execution_count": null,
   "metadata": {},
   "outputs": [],
   "source": [
    "t = np.linspace(0, 10, 101)\n",
    "x = np.sin(t)"
   ]
  },
  {
   "cell_type": "markdown",
   "metadata": {},
   "source": [
    "Second Example: mass-spring system"
   ]
  },
  {
   "cell_type": "code",
   "execution_count": null,
   "metadata": {},
   "outputs": [],
   "source": [
    "import matplotlib.pyplot as plt\n",
    "from matplotlib.animation import FuncAnimation\n",
    "import numpy as np\n",
    "\n",
    "m = 1 # kg\n",
    "k = 1 # N/m\n",
    "d = 0.2 # Unit of d\n",
    "\n",
    "t = np.linspace(0, 40, 501)\n",
    "w_d = np.sqrt((4*m*k - d**2)/(4*m**2))\n",
    "x = np.exp(-d/(2*m) * t) * np.cos(w_d * t)\n",
    "\n",
    "fig, axis = plt.subplots(1, 2)\n",
    "\n",
    "spring_plot, = axis[0].plot([x[0], -2], [0, 0], color='blue', lw=2)\n",
    "mass_plot, = axis[0].plot([x[0]], [0], 'o', markersize=20, color='red')\n",
    "\n",
    "axis[0].set_xlim([-2, 2])\n",
    "axis[0].set_ylim([-1, 1])\n",
    "axis[0].grid()\n",
    "\n",
    "curve_plot, = axis[1].plot([], [], '--', color='blue')\n",
    "\n",
    "axis[1].set_xlim([0, 40])\n",
    "axis[1].set_ylim([-2, 2])\n",
    "axis[1].grid()\n",
    "\n",
    "def update(frame):\n",
    "    mass_plot.set_data([x[frame]], [0])\n",
    "    spring_plot.set_data([x[frame],-2], [0, 0])\n",
    "\n",
    "    spring_plot.set_linewidth(int(abs(x[frame]-2)*2))\n",
    "\n",
    "    curve_plot.set_data(t[:frame], x[:frame])\n",
    "\n",
    "    return mass_plot, spring_plot, curve_plot\n",
    "\n",
    "animation = FuncAnimation(fig, update, frames=len(t), interval=5)\n",
    "\n",
    "plt.show()"
   ]
  }
 ],
 "metadata": {
  "kernelspec": {
   "display_name": "Python 3",
   "language": "python",
   "name": "python3"
  },
  "language_info": {
   "name": "python",
   "version": "3.12.1"
  }
 },
 "nbformat": 4,
 "nbformat_minor": 2
}
