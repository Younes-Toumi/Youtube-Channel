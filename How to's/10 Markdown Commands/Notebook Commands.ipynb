{
 "cells": [
  {
   "cell_type": "markdown",
   "metadata": {},
   "source": [
    "# 1. Adding Headlines"
   ]
  },
  {
   "cell_type": "markdown",
   "metadata": {},
   "source": [
    "## Headline 1.1.\n",
    "### Headline 1.1.1.\n",
    "#### Headline 1.1.1.1.\n",
    "##### Headline 1.1.1.1.1.\n",
    "###### Headline 1.1.1.1.1.1. (Max)\n"
   ]
  },
  {
   "cell_type": "markdown",
   "metadata": {},
   "source": [
    "# 2. Bullet points and items"
   ]
  },
  {
   "cell_type": "markdown",
   "metadata": {},
   "source": [
    "- Bullet Point 1\n",
    "- Bullet Point 2\n",
    "\n",
    "* Another Bullet Point 1\n",
    "* Another Bullet Point 2\n",
    "\n",
    "1. Numbered Item 1\n",
    "2. Numbered Item 2"
   ]
  },
  {
   "cell_type": "markdown",
   "metadata": {},
   "source": [
    "# 3. Writing in **Bold** and *Italic*"
   ]
  },
  {
   "cell_type": "markdown",
   "metadata": {},
   "source": [
    "Simply use two asterixis (* *) for **bold** and one asterix for *italic*, __italic__"
   ]
  },
  {
   "cell_type": "markdown",
   "metadata": {},
   "source": [
    "# 4. Writing Equations"
   ]
  },
  {
   "cell_type": "markdown",
   "metadata": {},
   "source": [
    "You can write equations exactly like LaTex:\n",
    "\n",
    "This is an equation on the same line: $T = \\frac{1}{2} m v^2$\n",
    "\n",
    "This is a centered equation on a new line:\n",
    "$$ V =  m g y $$ \n"
   ]
  },
  {
   "cell_type": "markdown",
   "metadata": {},
   "source": [
    "# 5. Code Highlighting"
   ]
  },
  {
   "cell_type": "markdown",
   "metadata": {},
   "source": [
    "This the `scipy.integrate.odeint()` function.\n",
    "\n",
    "> This is quote block, if you feel inspirational\n",
    "\n",
    "If you just want to highlight pytho code you can do it:\n",
    "\n",
    "```python\n",
    "highlighted_code = True\n",
    "\n",
    "for i in range(5):\n",
    "    print(i)\n",
    "```"
   ]
  },
  {
   "cell_type": "markdown",
   "metadata": {},
   "source": [
    "# 6. Seperation Line"
   ]
  },
  {
   "cell_type": "markdown",
   "metadata": {},
   "source": [
    "Simple do a:\n",
    "\n",
    "-----------\n",
    "\n",
    "Or:\n",
    "\n",
    "__ _ _ _ _ ____\n",
    "\n",
    "Or:\n",
    "\n",
    "***************"
   ]
  },
  {
   "cell_type": "markdown",
   "metadata": {},
   "source": [
    "# 7. Adding an Image"
   ]
  },
  {
   "cell_type": "markdown",
   "metadata": {},
   "source": [
    "You simply do:\n",
    "\n",
    "![Image](image_example.jpg)\n",
    "\n",
    "Or you can center it:\n",
    "<center>\n",
    "\n",
    "![Centered Image](image_example.jpg)\n",
    "\n",
    "</center>"
   ]
  },
  {
   "cell_type": "markdown",
   "metadata": {},
   "source": [
    "# 8. Adding a Link"
   ]
  },
  {
   "cell_type": "markdown",
   "metadata": {},
   "source": [
    "You add a link by copying and pasting: (https://www.youtube.com/channel/UCeNWB5QgkL4iQXCAz68zpbg)\n",
    "\n",
    "But you can also do: [A very Interessting YouTube Channel](https://www.youtube.com/channel/UCeNWB5QgkL4iQXCAz68zpbg)"
   ]
  },
  {
   "cell_type": "markdown",
   "metadata": {},
   "source": [
    "# 9. Adding a Table"
   ]
  },
  {
   "cell_type": "markdown",
   "metadata": {},
   "source": [
    "Like so:\n",
    "\n",
    "| Cell 1 | Cell 2 |\n",
    "| -------- | ---------- |\n",
    "| Value 1 | Value 2 |"
   ]
  },
  {
   "cell_type": "markdown",
   "metadata": {},
   "source": [
    "# 10. Strikethrough text"
   ]
  },
  {
   "cell_type": "markdown",
   "metadata": {},
   "source": [
    "~~Strikethrough Text~~\n",
    "\n",
    "\n",
    "~~Text~~"
   ]
  }
 ],
 "metadata": {
  "kernelspec": {
   "display_name": "Python 3",
   "language": "python",
   "name": "python3"
  },
  "language_info": {
   "codemirror_mode": {
    "name": "ipython",
    "version": 3
   },
   "file_extension": ".py",
   "mimetype": "text/x-python",
   "name": "python",
   "nbconvert_exporter": "python",
   "pygments_lexer": "ipython3",
   "version": "3.12.1"
  }
 },
 "nbformat": 4,
 "nbformat_minor": 2
}
