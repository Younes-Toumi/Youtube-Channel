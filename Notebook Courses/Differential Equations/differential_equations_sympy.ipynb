{
 "cells": [
  {
   "cell_type": "markdown",
   "metadata": {},
   "source": [
    "**NOTE:**\n",
    "\n",
    "This notebook represents a summary on how one can solve differential equations symbolically using the `sympy` library in python. It represents an additional resource to a topic covered in my Youtube channel [@Younes Lab](https://www.youtube.com/channel/UCeNWB5QgkL4iQXCAz68zpbg). Feel free to check it out ^^ : https://youtu.be/R25dZ5XLdDA"
   ]
  },
  {
   "cell_type": "markdown",
   "metadata": {},
   "source": [
    "---------------\n",
    "---------------"
   ]
  },
  {
   "cell_type": "markdown",
   "metadata": {},
   "source": [
    "# Solving Differential Equations with SymPy (symbolically)\n",
    "\n",
    "* SymPy is a Python library for symbolic mathematics, which happens to be written entirely in `python`. For more informations check the  [official website](https://www.sympy.org/en/index.html)\n",
    "\n",
    "* Installing the library using pip:\n",
    "---------------\n",
    "```python\n",
    ">> pip install sympy\n",
    "```\n",
    "---------------"
   ]
  },
  {
   "cell_type": "markdown",
   "metadata": {},
   "source": [
    "The process of Solving a Differential Equation analytically/symbolically using SymPy can be summerized as follows:\n",
    "1. Define the Differential Equation (with symbols, derivatives, etc).\n",
    "2. Define the set of Initial/Boundary conditions (IVP/BVP).\n",
    "3. Solve the Differential Equation to get an analytical solution. \n",
    "4. Convert your analytical solution into a numerical solution\n",
    "5. (optional) Display the results with matplotlib for ex."
   ]
  },
  {
   "cell_type": "markdown",
   "metadata": {},
   "source": [
    "**Table of Contents:**\n",
    "\n",
    "1. Overview\n",
    "2. Classification of a differential equation\n",
    "3. Importance of Classifying Differential Equations for Analytical Solutions in SymPy\n",
    "4. Solving the damped mass-spring system using `sympy`\n",
    "\n"
   ]
  },
  {
   "cell_type": "markdown",
   "metadata": {},
   "source": [
    "--------------------------\n",
    "--------------------------"
   ]
  },
  {
   "cell_type": "markdown",
   "metadata": {},
   "source": [
    "## I. Overview\n",
    "Differential equations are mathematical equations that relates a function $y$ to its derivatives $y', y'', y^{(3)}, ..., y^{(n)}$ and so on.\n",
    "\n",
    "Some examples on Mathematical Differential Equations include:\n",
    "\n",
    "* $ y' + y = x^2 $ \n",
    "* $ y'' + 2y' + y = \\sin(x) $\n",
    "\n",
    "The example that will be considered in this notebook is the damped mass-spring system. A mass $m$ is attached to a spring with a stiffness $k$ that, over time, losses it's energy due to a damping effect $\\zeta$. This mass can be optionnaly be excited by an external force over time $F_{ext}(t)$.\n",
    "\n",
    "By using lagrangian mehcanics on such a system, the differential equation that governs the displacement of the mass $m$ is:\n",
    "\n",
    "$$ m \\frac{d^2 x(t)}{dt^2}  +  \\zeta \\frac{d x(t)}{dt} + k x = F_{ext}(t) $$\n",
    "\n",
    "Another way of representing the equation above is to divide by the mass $m$ and represent the derivatives in the *dot form*:\n",
    "\n",
    "$$ \\ddot{x}(t) +  \\frac{\\zeta}{m} \\dot{x}(t) + \\frac{k}{m} x(t) = \\frac{F_{ext}(t)}{m}$$\n",
    "\n",
    "\n",
    "**Relevance for Engineers:**\n",
    "\n",
    "In engineering, differential equations serve as powerful tools for **modeling physical systems** and **predicting** their behavior over time. Engineers use differential equations to design control systems, analyze heat transfer processes, understand fluid dynamics, and optimize structural designs, among other applications.\n",
    "\n",
    "* Heat Distribution on a 2D plate\n",
    "* Motion of a Simple and Double Pendulum, or even very complex mechanical systems\n",
    "* Chaos theory related problem (Lorenz Attractor, The three body problem, etc.)\n",
    "\n",
    "\n",
    "By formulating and solving differential equations, engineers can make informed decisions to improve the performance and efficiency of engineering systems whether in mechanical, civil, structure, chimical, physics, nuclear, etc."
   ]
  },
  {
   "cell_type": "markdown",
   "metadata": {},
   "source": [
    "--------------------------\n",
    "--------------------------"
   ]
  },
  {
   "cell_type": "markdown",
   "metadata": {},
   "source": [
    "## II. Classification of a differential equation\n",
    "\n",
    "Differential equations can be classified into several types based on various criteria, including their order, linearity, and coefficients. Some common types include:\n",
    "\n",
    "1. **Type of Differential Equation**\n",
    "    A Differential Equation has two major types, it can be either an *Ordinary Differential Equation* (ODEs) or a *Partial Differential Equation* (PDEs):\n",
    "\n",
    "    1.1. *Ordinary Differential Equations (ODEs)*:\n",
    "      Equations involving derivatives with respect to a single independent variable. The studied entity varies only across one variable, it is \"ordinary\".\n",
    "      - Example: $ \\frac{dy}{dt} = k \\cdot y $ (exponential growth/decay).\n",
    "\n",
    "    1.2. *Partial Differential Equations (PDEs)*:\n",
    "      Equations involving derivatives with respect to multiple independent variables. The studied entity partly varies across one variable, and partly across another one.\n",
    "      - Example: $ \\frac{\\partial^2 u}{\\partial x^2} + \\frac{\\partial^2 u}{\\partial y^2} = 0 $ (Laplace's equation).\n",
    "\n",
    "2. **Linearity of a Differential Equation**:\n",
    "   Here as well, we identify two types, linear and non-linear differential equations:\n",
    "\n",
    "   2.1. *Linear Differential Equations*:\n",
    "      Equations where the dependent variable and its derivatives appear linearly.\n",
    "      - Example: $ \\frac{d^2y}{dx^2} + 2y = \\sin(x) $.\n",
    "      - Example: $ \\frac{d^2y}{dx^2} + \\pi y = \\sin(x) - 0.34 $.\n",
    "\n",
    "   2.2. *Nonlinear Differential Equations*:\n",
    "      Equations where the dependent variable and its derivatives appear nonlinearly.\n",
    "      - Example: $ \\frac{dy}{dx} = y^2 + x $.\n",
    "      - Example: $ \\frac{dy}{dx} = \\sin(y) + x $.\n",
    "      - Example: $ \\frac{dy}{dx} = \\frac{1}{y} + x $.\n",
    "\n",
    "3. **Order of a differential equation**:\n",
    "   The order of a differential equation is the highest derivative of the unknown function that appears in the equation.\n",
    "   - Example: $ \\frac{d^2 y}{dx^2} + 3 \\frac{dy}{dx} + 2y = 0$\n",
    "      * This is a $2^{nd}$-order ODE because the highest derivative is $\\frac{d^2 y}{dx^2}$\n",
    "\n",
    "   - Example: $ k\\frac{\\partial ^2 u}{\\partial x^2} + \\frac{\\partial u}{\\partial t} = Q$\n",
    "      * This is a $2^{nd}$-order in space (x) and a $1^{st}$-order in time (t)"
   ]
  },
  {
   "cell_type": "markdown",
   "metadata": {},
   "source": [
    "--------------------------\n",
    "--------------------------"
   ]
  },
  {
   "cell_type": "markdown",
   "metadata": {},
   "source": [
    "## III. Importance of Classifying Differential Equations for Analytical Solutions in SymPy\n",
    "\n",
    "Knowing the type of a differential equation is important for determining whether it can be solved analytically using the SymPy library. SymPy provides a variety of methods for solving differential equations, but the effectiveness of these methods often depends on the specific characteristics of the equation. Here's why classification matters:\n",
    "\n",
    "1. **Ordinary Differential Equations (ODEs) vs. Partial Differential Equations (PDEs):**\n",
    "   - **ODEs:** SymPy has robust capabilities for solving many types of ODEs. It supports a wide range of techniques for both linear and nonlinear ODEs, including exact solutions, series solutions, and numerical methods.\n",
    "     - Example: $ \\frac{dy}{dt} = k \\cdot y $ can be solved using SymPy’s `dsolve` function.\n",
    "\n",
    "   - **PDEs:** SymPy's support for PDEs is more limited compared to ODEs. While it can handle some standard forms (such as the heat equation or wave equation), more complex or nonlinear PDEs may not be solvable analytically within SymPy.\n",
    "     - Example: $ \\frac{\\partial^2 u}{\\partial x^2} + \\frac{\\partial^2 u}{\\partial y^2} = 0 $ (Laplace's equation) can be approached in SymPy, but complex boundary conditions or nonlinear terms might require numerical solutions.\n",
    "\n",
    "2. **Linearity:**\n",
    "   - **Linear Differential Equations:** SymPy excels at solving linear differential equations. Techniques such as integrating factors, characteristic equations, and variation of parameters are well-supported.\n",
    "     - Example: $ \\frac{d^2y}{dx^2} + 2y = \\sin(x) $ can be solved using SymPy’s linear ODE solvers.\n",
    "     \n",
    "   - **Nonlinear Differential Equations:** Solving nonlinear differential equations is generally more challenging. SymPy can sometimes find solutions for specific forms of nonlinear equations, but the success is less guaranteed, and numerical methods might be required.\n",
    "     - Example: $ \\frac{dy}{dx} = y^2 + x $ may or may not have an analytical solution accessible in SymPy, and numerical solvers like `odeint` (or the `solve_ivp & solve_bvp` from the `scipy` library) might be needed.\n",
    "\n",
    "3. **Order of the Differential Equation:**\n",
    "   - **Higher-Order Differential Equations:** The order of the differential equation impacts the complexity of finding a solution. SymPy can handle higher-order linear ODEs efficiently, but as the order increases, especially for nonlinear equations, the complexity of finding an analytical solution also increases.\n",
    "     - Example: $ \\frac{d^2 y}{dx^2} + 3 \\frac{dy}{dx} + 2y = 0 $ (second-order ODE) is manageable in SymPy.\n",
    "     - Example: $ k\\frac{\\partial^2 u}{\\partial x^2} + \\frac{\\partial u}{\\partial t} = Q $ (second-order in space, first-order in time PDE) may be approached if it fits standard solvable forms.\n",
    "\n",
    "Understanding these classifications helps determine the feasibility of using SymPy for an analytical solution. While SymPy is a powerful tool, recognizing the limitations based on the type of differential equation ensures more efficient problem-solving and sets realistic expectations regarding the capabilities of the software.\n"
   ]
  },
  {
   "cell_type": "markdown",
   "metadata": {},
   "source": [
    "--------------------------\n",
    "--------------------------"
   ]
  },
  {
   "cell_type": "markdown",
   "metadata": {},
   "source": [
    "## IV. Solving the damped mass-spring system using `sympy`\n",
    "\n",
    "The considered example is $2^{nd}$ order in space ODE with a non-homogenous part $F_{ext}$. To recall, here a the five steps to go through for solving this equation:\n",
    "\n",
    "1. Define the Differential Equation (with symbols, derivatives, etc).\n",
    "2. Define the set of Initial/Boundary conditions (IVP/BVP).\n",
    "3. Solve the Differential Equation to get an analytical solution. \n",
    "4. Convert your analytical solution into a numerical solution\n",
    "5. (optional) Display the results with matplotlib for ex."
   ]
  },
  {
   "cell_type": "markdown",
   "metadata": {},
   "source": [
    "------\n",
    "-----"
   ]
  },
  {
   "cell_type": "markdown",
   "metadata": {},
   "source": [
    "### 1. Defining the differential Equation"
   ]
  },
  {
   "cell_type": "markdown",
   "metadata": {},
   "source": [
    "To define a differential equation symbolically using *SymPy* the main functions/classes you will be using are the following:\n",
    "\n",
    "* `sympy.symbols`: This function allows you to create symbolic variables in `sympy`, for a given set of assumptions. Here are some example:\n",
    "-------------------------------\n",
    "```python\n",
    ">> a, b, c = sympy.symbols('a, b, c', real=True) # Coefficients of a quadratic equation having some assumptions\n",
    ">> x = sympy.symbols('x') # Defining our variable x\n",
    ">> \n",
    ">> quadEquation = a*x**2 + b*x + c # Defining an equation using constants and variables\n",
    ">> quadEquation\n",
    "```\n",
    "$ ax^2 + bx + c $\n",
    "\n",
    "-------------------------------\n",
    "\n",
    "* `sympy.Function`: This class allows you to create symbolic function-like variables for example f(x), u(x, t), etc. Here are some examples:\n",
    "\n",
    "-------------------------------\n",
    "```python\n",
    ">> t, x = sympy.symbols('t, x') # Creating two variables, one temporal and one spacial.\n",
    ">> \n",
    ">> y = sympy.Function('y')(x) # The sympy.Function operates very similarly that the sm.symbols, note that you need to then spcify between paranthesis (...) it's variables\n",
    ">> u = sympy.Function('u')(x, t) # Here we create a function u(x, t)\n",
    ">> u\n",
    "```\n",
    "$u(x, t)$ \n",
    "-------- ---------------------- \n",
    "\n",
    "* `sympy.diff` / `sympy.integrate`: These two functions are used to define symbolic derivatives/ integrals. Here are some examples:\n",
    "--------------------\n",
    "```python\n",
    ">> du_dt = sympy.diff(u, t, 1) # Here sympy.diff(<function>, <variable>, <how many times>)\n",
    ">> du_dt\n",
    "```\n",
    "$ \\frac{\\partial}{\\partial t} u(x, t) $\n",
    "```python\n",
    ">> ddu_ddt = sympy.diff(u, t, 2) # Second derivative in time\n",
    ">> ddu_ddt\n",
    "```\n",
    "$ \\frac{\\partial^2}{\\partial t^2} u(x, t) $\n",
    "\n",
    "```python\n",
    ">> u_xxxx = sympy.diff(u, x, 4) # Fourth derivative in space\n",
    ">> u_xxxx\n",
    "```\n",
    "$ \\frac{\\partial^4}{\\partial x^4} u(x, t)  $\n",
    "---------------------------- -"
   ]
  },
  {
   "cell_type": "markdown",
   "metadata": {},
   "source": [
    "Having this in mind, it is now possible to build the differential equation."
   ]
  },
  {
   "cell_type": "code",
   "execution_count": 152,
   "metadata": {},
   "outputs": [],
   "source": [
    "# Importing the sympy library as sm (alternatively as smp)\n",
    "import sympy as sm"
   ]
  },
  {
   "cell_type": "code",
   "execution_count": 153,
   "metadata": {},
   "outputs": [],
   "source": [
    "# 1. Defining the constants of the equation\n",
    "k, c, m = sm.symbols('k, \\\\zeta, m', positve=True, real=True)    # (optional) It is possible to speficy assumptions on the variables\n",
    "                                                                # This usually helps sympy make some simplifications.\n",
    "                                                                # Here \\zeta is just a symbol for the damping coefficient c\n",
    "\n",
    "# 2. Defining the variables, in our case, time only.\n",
    "t = sm.symbols('t', positve=True, real=True)\n",
    "\n",
    "# 3. Defining the function of the position x(t) and external forces F_ext(t)\n",
    "x = sm.Function('x', complex=True)(t)\n",
    "F_ext = sm.Function('F_{ext}', real=True)(t)\n",
    "\n",
    "# Derivatives\n",
    "dx_dt = sm.diff(x, t, 1) # First\n",
    "ddx_ddt = sm.diff(x, t, 2) # Second"
   ]
  },
  {
   "cell_type": "markdown",
   "metadata": {},
   "source": [
    "Having all the term of the differential equations, there are two main ways to frame an equation in sympy:\n",
    "\n",
    "1. By expressing an equation equal to zero (moving all the terms to one side of the equation) leading to:\n",
    "$$ \\ddot{x}(t) +  \\frac{\\zeta}{m} \\dot{x}(t) + \\frac{k}{m} x(t) = \\frac{F_{ext}(t)}{m}$$\n",
    "$$ \\ddot{x}(t) +  \\frac{\\zeta}{m} \\dot{x}(t) + \\frac{k}{m} x(t) - \\frac{F_{ext}(t)}{m} = 0$$\n",
    "\n",
    "2. (Preferable) By using the `Eq()` class that allows to construct an equation, here you have to specify the right hand side and the left handside seperatly (also known as rhs and lhs).\n",
    "$$ right \\ hand \\ side = \\frac{F_{ext}(t)}{m}$$\n",
    "$$ left \\ hand \\ side = \\ddot{x}(t) +  \\frac{\\zeta}{m} \\dot{x}(t) + \\frac{k}{m} x(t) $$"
   ]
  },
  {
   "cell_type": "code",
   "execution_count": 154,
   "metadata": {},
   "outputs": [
    {
     "data": {
      "text/latex": [
       "$\\displaystyle \\frac{\\zeta \\frac{d}{d t} x{\\left(t \\right)}}{m} + \\frac{k x{\\left(t \\right)}}{m} + \\frac{d^{2}}{d t^{2}} x{\\left(t \\right)} = \\frac{F_{ext}{\\left(t \\right)}}{m}$"
      ],
      "text/plain": [
       "Eq(\\zeta*Derivative(x(t), t)/m + k*x(t)/m + Derivative(x(t), (t, 2)), F_{ext}(t)/m)"
      ]
     },
     "execution_count": 154,
     "metadata": {},
     "output_type": "execute_result"
    }
   ],
   "source": [
    "# --- 1st method --- #\n",
    "myEquation = ddx_ddt + (c/m)*dx_dt + (k/m)*x - F_ext/m\n",
    "\n",
    "# --- 2nd method (preferable) --- #\n",
    "lhs = ddx_ddt + (c/m)*dx_dt + (k/m)*x\n",
    "rhs = F_ext/m\n",
    "\n",
    "# using right- and left hand side to build our equation using Eq()\n",
    "myEquation = sm.Eq(lhs, rhs)\n",
    "myEquation"
   ]
  },
  {
   "cell_type": "markdown",
   "metadata": {},
   "source": [
    "-----------\n",
    "-----------"
   ]
  },
  {
   "cell_type": "markdown",
   "metadata": {},
   "source": [
    "### 2. Specifying the initial conditions\n",
    "It is technically possible to not specify the initial/boundary conditions, but in this case the symbolic solution will be in terms of constants $C_1, C_2, ... \\in \\R$. The way a set of condition is specified depends on which solver one is using, when it comes to the `dsolve` solver (used to solve symbolic equations), according to the documentation, it should be specified as follows:\n",
    "\n",
    "-------------\n",
    "```python\n",
    "def dsolve(eq, func=None, hint=\"default\", simplify=True,\n",
    "    ics= None, xi=None, eta=None, x0=0, n=6, **kwargs):\n",
    "    r\"\"\"\n",
    "    Solves any (supported) kind of ordinary differential equation and\n",
    "    system of ordinary differential equations.\n",
    "\n",
    "    For single ordinary differential equation\n",
    "    =========================================\n",
    "\n",
    "    It is classified under this when number of equation in ``eq`` is one.\n",
    "    **Usage**\n",
    "\n",
    "        ``dsolve(eq, f(x), hint)`` -> Solve ordinary differential equation\n",
    "        ``eq`` for function ``f(x)``, using method ``hint``.\n",
    "\n",
    "    **Details**\n",
    "\n",
    "        [...]\n",
    "\n",
    "        ``ics`` is the set of initial/boundary conditions for the differential equation.\n",
    "          It should be given in the form of ``{f(x0): x1, f(x).diff(x).subs(x, x2):\n",
    "          x3}`` and so on.  For power series solutions, if no initial\n",
    "          conditions are specified ``f(0)`` is assumed to be ``C0`` and the power\n",
    "          series solution is calculated about 0.\n",
    "```\n",
    "---------\n",
    "\n",
    "Here the conditions should be given in form of a python dictionary, notice that the `.subs()` method is used.\n",
    "\n",
    "```python\n",
    "initial_conditions = {\n",
    "    f(x0): x1,  # First condition\n",
    "    f(x).diff(x).subs(x, x2): x3 # Second condition\n",
    "    }\n",
    "```\n",
    "\n",
    "The proposed example might be not straight forward to understand, so it is preferable to directly jump to our differential equation to understand it better.\n",
    "\n",
    "Since we have a temporal problem (here $x(t)$ is a function of time) it is common to specify an Initial Value Problem (IVP). These involve specifying the values of the function $x(t)$ and its derivatives at a single point, often denoted as $t = t_0$ (usually $t_0 = 0$).\n",
    "\n",
    "Since our ODE is $2^{nd}$ order in time, two conditions are required, let's set the following conditions:\n",
    "* $ x(0) = 0.1 $: The mass starts at a position x=0.1 [m]\n",
    "* $ \\frac{dx}{dt} |_{t=0} = 0 $: We do not have an initial velocity.\n"
   ]
  },
  {
   "cell_type": "markdown",
   "metadata": {},
   "source": [
    "The way you would build this set of initial conditions is the following:\n"
   ]
  },
  {
   "cell_type": "code",
   "execution_count": 155,
   "metadata": {},
   "outputs": [],
   "source": [
    "# Specifying our initial conditions\n",
    "initial_conditions = {\n",
    "    x.subs(t, 0): 0.1, # x(0) = 0.1\n",
    "    dx_dt.subs(t, 0): 0  # dx_dt(0) = 0.0\n",
    "    }"
   ]
  },
  {
   "cell_type": "markdown",
   "metadata": {},
   "source": [
    "The `subs` method in sympy is short for subtitute, as is used when ever we want to replace the value of some variable within a symbolic expression. Consider the following example:\n",
    "\n",
    "--------------------\n",
    "```python\n",
    ">> a, b, c, t = sympy.symbols('a, b, c, t')\n",
    ">> expression = a * t**2 + b * t + c\n",
    ">> expression\n",
    "```\n",
    "$a t^2 + bt + c$\n",
    "```python\n",
    ">> new_expression = expression.subs([  (a, 1), (b, 0.4), (c, sympy.sqrt(5)) ]) # Substituting the values of a, b and c. \n",
    ">> new_expression\n",
    "```\n",
    "$t^2 + 0.4t + \\sqrt{5}$\n",
    "\n",
    "```python\n",
    ">> new_expression.subs(t, 0.1) # Replacing t with 0.1\n",
    ">> new_expression\n",
    "```\n",
    "$0.05 + \\sqrt{5}$\n",
    "----------------- ---\n",
    "\n",
    "In our case to get $x(0)$ and $\\frac{dx}{dt}(0)$ we use the `.subs()` method in the following manner:\n",
    "* `x.subs(t, 0)` is equivalent to `x(0)` (replacing t with 0 within x)\n",
    "* `dx_dt.subs(t, 0)` is equivalent to `dx_dt(0)` (replacing t with 0 within dx_dt)"
   ]
  },
  {
   "cell_type": "markdown",
   "metadata": {},
   "source": [
    "-------------------------\n",
    "-------------------------"
   ]
  },
  {
   "cell_type": "markdown",
   "metadata": {},
   "source": [
    "### 3. Solving our Differential Equation\n",
    "After properly defining the differential equation and setting proper conditions (IVP or BVP) it is time to solve our differential equation symbolically. To achieve this, there is a function within SymPy called `dsolve` short for *diff/differential-solve*. It takes as input:\n",
    "\n",
    "* A differential equation (`myEquation`).\n",
    "* The function across which we want to solve the equation for (In our case `x(t)`).\n",
    "* (Optional but highly recommended) The initial conditions of our problem (`ics=initial_conditions`)."
   ]
  },
  {
   "cell_type": "code",
   "execution_count": 156,
   "metadata": {},
   "outputs": [
    {
     "data": {
      "text/latex": [
       "$\\displaystyle x{\\left(t \\right)} = \\left(- \\frac{0.025 \\zeta}{\\sqrt{0.25 \\zeta^{2} - k m}} + 0.05 + \\frac{0.5 \\int\\limits^{0} F_{ext}{\\left(t \\right)} e^{\\frac{0.5 \\zeta t}{m}} e^{\\frac{1.0 t \\sqrt{0.25 \\zeta^{2} - k m}}{m}}\\, dt}{\\sqrt{0.25 \\zeta^{2} - k m}}\\right) e^{- \\frac{t \\left(\\zeta + \\sqrt{\\zeta^{2} - 4 k m}\\right)}{2 m}} + \\left(\\frac{0.025 \\zeta}{\\sqrt{0.25 \\zeta^{2} - k m}} + 0.05 - \\frac{0.5 \\int\\limits^{0} F_{ext}{\\left(t \\right)} e^{\\frac{0.5 \\zeta t}{m}} e^{- \\frac{1.0 t \\sqrt{0.25 \\zeta^{2} - k m}}{m}}\\, dt}{\\sqrt{0.25 \\zeta^{2} - k m}}\\right) e^{\\frac{t \\left(- \\zeta + \\sqrt{\\zeta^{2} - 4 k m}\\right)}{2 m}} + \\frac{e^{\\frac{t \\left(- \\zeta + \\sqrt{\\zeta^{2} - 4 k m}\\right)}{2 m}} \\int F_{ext}{\\left(t \\right)} e^{\\frac{\\zeta t}{2 m}} e^{- \\frac{t \\sqrt{\\zeta^{2} - 4 k m}}{2 m}}\\, dt}{\\sqrt{\\zeta^{2} - 4 k m}} - \\frac{e^{- \\frac{t \\left(\\zeta + \\sqrt{\\zeta^{2} - 4 k m}\\right)}{2 m}} \\int F_{ext}{\\left(t \\right)} e^{\\frac{\\zeta t}{2 m}} e^{\\frac{t \\sqrt{\\zeta^{2} - 4 k m}}{2 m}}\\, dt}{\\sqrt{\\zeta^{2} - 4 k m}}$"
      ],
      "text/plain": [
       "Eq(x(t), (-0.025*\\zeta/sqrt(0.25*\\zeta**2 - k*m) + 0.05 + 0.5*Integral(F_{ext}(t)*exp(0.5*\\zeta*t/m)*exp(1.0*t*sqrt(0.25*\\zeta**2 - k*m)/m), (t, 0))/sqrt(0.25*\\zeta**2 - k*m))*exp(-t*(\\zeta + sqrt(\\zeta**2 - 4*k*m))/(2*m)) + (0.025*\\zeta/sqrt(0.25*\\zeta**2 - k*m) + 0.05 - 0.5*Integral(F_{ext}(t)*exp(0.5*\\zeta*t/m)*exp(-1.0*t*sqrt(0.25*\\zeta**2 - k*m)/m), (t, 0))/sqrt(0.25*\\zeta**2 - k*m))*exp(t*(-\\zeta + sqrt(\\zeta**2 - 4*k*m))/(2*m)) + exp(t*(-\\zeta + sqrt(\\zeta**2 - 4*k*m))/(2*m))*Integral(F_{ext}(t)*exp(\\zeta*t/(2*m))*exp(-t*sqrt(\\zeta**2 - 4*k*m)/(2*m)), t)/sqrt(\\zeta**2 - 4*k*m) - exp(-t*(\\zeta + sqrt(\\zeta**2 - 4*k*m))/(2*m))*Integral(F_{ext}(t)*exp(\\zeta*t/(2*m))*exp(t*sqrt(\\zeta**2 - 4*k*m)/(2*m)), t)/sqrt(\\zeta**2 - 4*k*m))"
      ]
     },
     "execution_count": 156,
     "metadata": {},
     "output_type": "execute_result"
    }
   ],
   "source": [
    "# Solving our differential equation using `dsolve()`\n",
    "solution = sm.dsolve(myEquation, x, ics=initial_conditions)\n",
    "solution"
   ]
  },
  {
   "cell_type": "markdown",
   "metadata": {},
   "source": [
    "Since we are solving using pure symbols, the expression of the solution might look somewhat complex, however we are free to substitue the values $m, k, \\zeta$ as well as the external force $F_{ext}(t)$ with specific value. From now on you can play around with different values and see how it influences the solutions. \n",
    "\n",
    "We can consider the following external forces:\n",
    "* Case n°1: No external force, $F_{ext}(t) = 0$.\n",
    "* Case n°2: A sinusoidal external force, $F_{ext}(t) = F_0 \\sin(t)$."
   ]
  },
  {
   "cell_type": "code",
   "execution_count": 162,
   "metadata": {},
   "outputs": [],
   "source": [
    "new_F_ext = 0 # Alternatively sm.sin(t), where F_0 = 1 [N]\n",
    "\n",
    "m_val = 0.3 # [kg]  Mass m\n",
    "k_val = 0.5 # [N.m] Stiffnes of the spring k\n",
    "c_val = 0.5*(4*m_val*k_val)**0.5   # Damping factor c\n",
    "\n",
    "solution_substituted = solution.subs([(F_ext, new_F_ext), (m, m_val), (k, k_val), (c, c_val)]).simplify() # Using .simplify() to ensure sympy simplifies as much as possible the expression\n",
    "\n"
   ]
  },
  {
   "cell_type": "markdown",
   "metadata": {},
   "source": [
    "And from now on, one can play around with the parameters $m, k, \\zeta$\n",
    "\n",
    "* $\\zeta < \\sqrt{4mk}$: The system is under-damped\n",
    "* $\\zeta = \\sqrt{4mk}$: The system is critically-damped (this will need a special treatment since it is a factor found in the denominator)\n",
    "* $\\zeta > \\sqrt{4mk}$: The system is over-damped"
   ]
  },
  {
   "cell_type": "markdown",
   "metadata": {},
   "source": [
    "Displaying only the right hand side:"
   ]
  },
  {
   "cell_type": "code",
   "execution_count": 163,
   "metadata": {},
   "outputs": [
    {
     "data": {
      "text/latex": [
       "$\\displaystyle \\left(1.0 \\cdot \\left(0.05 - 0.0288675134594813 i\\right) e^{2.23606797749979 i t} + 0.05 + 0.0288675134594813 i\\right) e^{- t \\left(0.645497224367903 + 1.11803398874989 i\\right)}$"
      ],
      "text/plain": [
       "(1.0*(0.05 - 0.0288675134594813*I)*exp(2.23606797749979*I*t) + 0.05 + 0.0288675134594813*I)*exp(-t*(0.645497224367903 + 1.11803398874989*I))"
      ]
     },
     "execution_count": 163,
     "metadata": {},
     "output_type": "execute_result"
    }
   ],
   "source": [
    "solution_substituted.rhs"
   ]
  },
  {
   "cell_type": "markdown",
   "metadata": {},
   "source": [
    "-------------------\n",
    "-------------------"
   ]
  },
  {
   "cell_type": "markdown",
   "metadata": {},
   "source": [
    "### 4. Converting to a numerical solution\n",
    "It is also possible to convert a symbolic expression in SymPy into a numerical expression (for later manipulation), to achieve this, SymPy provides the `lambdify()` function.\n",
    "\n",
    "Here is a simple use case:\n",
    "--------- ------------------\n",
    "```python\n",
    ">> t = sympy.symbols('t')\n",
    ">> expression = t**2 + 1\n",
    ">> expression\n",
    "```\n",
    "$t^2 + 1$\n",
    "```python\n",
    ">> lambdified_expression = sympy.lambdify(t, expression) # The first input represents the arguments/parameters of our expression, and the second input is the expression itself.\n",
    ">> lambdified_expression(2) # Corresponds to 2**2 + 1\n",
    "5.0\n",
    "\n",
    ">> import numpy as np\n",
    ">> t_vector = np.array([0.0, 0.5, 1.0])\n",
    ">> lambdified_expression(t_vector) # Now we can also pass in a numpy array!\n",
    "array([1.  , 1.25, 2.  ])\n",
    "```\n",
    "--------- ------------------"
   ]
  },
  {
   "cell_type": "code",
   "execution_count": 165,
   "metadata": {},
   "outputs": [
    {
     "data": {
      "text/plain": [
       "(0.05016578552153629+2.42861286636753e-16j)"
      ]
     },
     "execution_count": 165,
     "metadata": {},
     "output_type": "execute_result"
    }
   ],
   "source": [
    "solution_num = sm.lambdify(t, solution_substituted.rhs) # Here we are only interessted in the real part of the right hand side of our solution (where we have the expression in terms of `t`)\n",
    "solution_num(0.0) # [m] Corresponds to x @ t = 0.0 [s]\n",
    "solution_num(1.0) # [m] Corresponds to x @ t = 1.0 [s]"
   ]
  },
  {
   "cell_type": "markdown",
   "metadata": {},
   "source": [
    "-----------------------\n",
    "-----------------------"
   ]
  },
  {
   "cell_type": "markdown",
   "metadata": {},
   "source": [
    "### 5. Display the results"
   ]
  },
  {
   "cell_type": "markdown",
   "metadata": {},
   "source": [
    "The final step of solving differential equations symbolically is to display the results using `numpy`and `matplotlib`."
   ]
  },
  {
   "cell_type": "code",
   "execution_count": 172,
   "metadata": {},
   "outputs": [
    {
     "data": {
      "image/png": "[encoded data removed]",
      "text/plain": [
       "<Figure size 640x480 with 1 Axes>"
      ]
     },
     "metadata": {},
     "output_type": "display_data"
    }
   ],
   "source": [
    "import matplotlib.pyplot as plt\n",
    "import numpy as np\n",
    "\n",
    "t_num = np.linspace(0, 20, 201) # Points at which we want to evaluate the solution x(t), here from 0 to 10 [s]\n",
    "\n",
    "x_sol_num = np.real(solution_num(t_num)) # We use now our lambdified solution and apply a numpy array on it (Extracting only the real part for example)\n",
    "\n",
    "plt.plot(t_num, x_sol_num, '-', color='black')\n",
    "plt.title(\"Symbolic solution the damped mass-spring system\")\n",
    "plt.xlabel('time t [s]')\n",
    "plt.ylabel('position x(t) [m]')\n",
    "plt.grid()"
   ]
  },
  {
   "cell_type": "markdown",
   "metadata": {},
   "source": [
    "--------------------\n",
    "--------------------"
   ]
  }
 ],
 "metadata": {
  "kernelspec": {
   "display_name": "Python 3",
   "language": "python",
   "name": "python3"
  },
  "language_info": {
   "codemirror_mode": {
    "name": "ipython",
    "version": 3
   },
   "file_extension": ".py",
   "mimetype": "text/x-python",
   "name": "python",
   "nbconvert_exporter": "python",
   "pygments_lexer": "ipython3",
   "version": "3.12.1"
  }
 },
 "nbformat": 4,
 "nbformat_minor": 2
}
