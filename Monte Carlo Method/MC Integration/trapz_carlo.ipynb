{
 "cells": [
  {
   "cell_type": "code",
   "execution_count": 1,
   "metadata": {},
   "outputs": [],
   "source": [
    "import numpy as np\n",
    "import matplotlib.pyplot as plt\n",
    "\n",
    "import time"
   ]
  },
  {
   "cell_type": "code",
   "execution_count": 3,
   "metadata": {},
   "outputs": [],
   "source": [
    "N = 1_000_000\n",
    "\n",
    "x = np.linspace(0.8, 3, N)\n",
    "f_x = 1 / (1 + np.sinh(2*x) * np.log(x)**2)"
   ]
  },
  {
   "cell_type": "code",
   "execution_count": 4,
   "metadata": {},
   "outputs": [
    {
     "name": "stdout",
     "output_type": "stream",
     "text": [
      "Trapz: 0.6768400757152978, time: 0.027924537658691406\n",
      "Carlo: 0.6758740282941167,  time: 0.8597009181976318\n",
      "Error in [%]: 0.1427 [%]\n"
     ]
    }
   ],
   "source": [
    "t1 = time.time()\n",
    "\n",
    "I_trapz = np.trapz(f_x, x)\n",
    "\n",
    "t2 = time.time()\n",
    "\n",
    "N_samples = 1000\n",
    "I_carlos = []\n",
    "\n",
    "for i in range(1, 10_000):\n",
    "    y_carlo = np.random.choice(f_x, N_samples)\n",
    "\n",
    "    I_carlo = (3 - 0.8) * 1/N_samples * np.sum(y_carlo)\n",
    "\n",
    "    I_carlos.append(I_carlo)\n",
    "\n",
    "I_carloss = np.average(I_carlos)\n",
    "t3 = time.time()\n",
    "\n",
    "\n",
    "print(f\"Trapz: {I_trapz}, time: {t2-t1}\")\n",
    "print(f\"Carlo: {np.average(I_carlos)},  time: {t3-t2}\")\n",
    "print(f\"Error in [%]: {100*np.abs(I_carloss-I_trapz)/np.average(I_trapz):.4f} [%]\")\n"
   ]
  }
 ],
 "metadata": {
  "kernelspec": {
   "display_name": "Python 3",
   "language": "python",
   "name": "python3"
  },
  "language_info": {
   "codemirror_mode": {
    "name": "ipython",
    "version": 3
   },
   "file_extension": ".py",
   "mimetype": "text/x-python",
   "name": "python",
   "nbconvert_exporter": "python",
   "pygments_lexer": "ipython3",
   "version": "3.10.8"
  },
  "orig_nbformat": 4,
  "vscode": {
   "interpreter": {
    "hash": "369f2c481f4da34e4445cda3fffd2e751bd1c4d706f27375911949ba6bb62e1c"
   }
  }
 },
 "nbformat": 4,
 "nbformat_minor": 2
}
